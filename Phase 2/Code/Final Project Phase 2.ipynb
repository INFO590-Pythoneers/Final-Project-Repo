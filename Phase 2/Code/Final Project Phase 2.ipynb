{
 "cells": [
  {
   "cell_type": "code",
   "execution_count": 1,
   "metadata": {},
   "outputs": [],
   "source": [
    "%matplotlib inline\n",
    "import pandas as pd\n",
    "import matplotlib.pylab as plt\n",
    "import numpy as np\n",
    "from sklearn.datasets import make_blobs\n",
    "from sklearn.cluster import KMeans\n",
    "from sklearn.pipeline import make_pipeline\n",
    "from sklearn.preprocessing import StandardScaler"
   ]
  },
  {
   "cell_type": "code",
   "execution_count": 2,
   "metadata": {},
   "outputs": [
    {
     "name": "stdout",
     "output_type": "stream",
     "text": [
      "       Scn  A2  A3  A4  A5  A6    A7  A8  A9  A10  CLASS\n",
      "0  1000025   5   1   1   1   2   1.0   3   1    1      2\n",
      "1  1002945   5   4   4   5   7  10.0   3   2    1      2\n",
      "2  1015425   3   1   1   1   2   2.0   3   1    1      2\n",
      "3  1016277   6   8   8   1   3   4.0   3   7    1      2\n",
      "4  1017023   4   1   1   3   2   1.0   3   1    1      2\n"
     ]
    }
   ],
   "source": [
    "#Load the clean data sample from phase 1\n",
    "df = pd.read_csv('https://raw.githubusercontent.com/INFO590-Pythoneers/Final-Project-Repo/master/Phase%202/Data/BreastCancerWisconsinUpdate.csv')\n",
    "print(df.head())"
   ]
  },
  {
   "cell_type": "code",
   "execution_count": 3,
   "metadata": {},
   "outputs": [
    {
     "name": "stdout",
     "output_type": "stream",
     "text": [
      "Centroids:\n",
      "\n",
      "[[2.9449 1.2445 1.3656 1.293  2.0396 1.3514 2.0617 1.2004 1.0771]\n",
      " [7.234  4.8511 5.0426 4.8617 4.117  9.383  5.266  3.7872 1.6489]\n",
      " [7.4648 7.0282 6.6761 4.1972 5.5352 3.4532 5.3803 6.8169 2.3099]\n",
      " [6.7625 8.3875 8.425  7.75   6.775  9.2125 7.375  7.7375 3.7875]]\n"
     ]
    }
   ],
   "source": [
    "#Slice the dataframe to include only columns A2 through A10.\n",
    "dfslice = df[['A2', 'A3', 'A4', 'A5', 'A6', 'A7', 'A8', 'A9', 'A10']]\n",
    "\n",
    "#Use KMeans clustering with n = 4 clusters.\n",
    "model = KMeans(n_clusters=4)\n",
    "model.fit(dfslice)\n",
    "\n",
    "#Find the centroid locations per cluster.\n",
    "centroids=model.cluster_centers_.round(4)\n",
    "print('Centroids:\\n')\n",
    "print(centroids)\n",
    "\n",
    "#----------NOTE - I commented out this plot since it wasn't required, but we can add it back if desired.\n",
    "#centroids_x = centroids[:,0]\n",
    "#centroids_y = centroids[:,1] \n",
    "#Plot the centroids\n",
    "#plt.scatter(centroids_x, centroids_y)"
   ]
  },
  {
   "cell_type": "markdown",
   "metadata": {},
   "source": [
    "### Evaluate the optimal number of clusters"
   ]
  },
  {
   "cell_type": "code",
   "execution_count": 4,
   "metadata": {},
   "outputs": [
    {
     "data": {
      "image/png": "[encoded data removed]",
      "text/plain": [
       "<Figure size 432x288 with 1 Axes>"
      ]
     },
     "metadata": {
      "needs_background": "light"
     },
     "output_type": "display_data"
    }
   ],
   "source": [
    "# make a range from 1 to 15\n",
    "ks = range(1, 15)\n",
    "\n",
    "# create an empty list\n",
    "inertias = []\n",
    "\n",
    "# for loop to calculate KMeans for each values \n",
    "for k in ks:\n",
    "    model =KMeans(n_clusters=k) \n",
    "    model.fit(dfslice)    \n",
    "    # Append the inertia to the list of inertias\n",
    "    inertias.append(model.inertia_)\n",
    "    \n",
    "# Plot Range vs Inertias\n",
    "plt.plot(ks, inertias, '-o')\n",
    "plt.xlabel('number of clusters, k')\n",
    "plt.ylabel('Inertia')\n",
    "plt.title('Range vs Inertia')\n",
    "plt.xticks(ks)\n",
    "plt.show()"
   ]
  },
  {
   "cell_type": "markdown",
   "metadata": {},
   "source": [
    "##### The optimal number of clusters is determined when inertia begins to decrease at a slower pace, also known as the \"elbow\" in the inertia plot. In our data sample above the optimal number of clusters is two.  "
   ]
  },
  {
   "cell_type": "code",
   "execution_count": 5,
   "metadata": {},
   "outputs": [
    {
     "name": "stdout",
     "output_type": "stream",
     "text": [
      "Standard deviation values for each column A2-A10:\n",
      "\n",
      "A2     2.815741\n",
      "A3     3.051459\n",
      "A4     2.971913\n",
      "A5     2.855379\n",
      "A6     2.214300\n",
      "A7     3.601852\n",
      "A8     2.438364\n",
      "A9     3.053634\n",
      "A10    1.715078\n",
      "dtype: float64\n"
     ]
    }
   ],
   "source": [
    "'''Revise data variation 10pts\n",
    "apply standard deviation function for columns A2-A10\n",
    "plot standard deviation values - select a graphic that could display all nine values [do not use histogram], \n",
    "add title, legend, ylabel, xlabel. \n",
    "Can you capture how wide or narrow is the variation in each column?\n",
    "describe which features have a lot of data variation'''\n",
    "\n",
    "#Revision of data variation\n",
    "\n",
    "#Find standard deviation of values in columns A2-A10\n",
    "print('Standard deviation values for each column A2-A10:\\n')\n",
    "print(dfslice.std())\n",
    "\n",
    "#----------Not sure what the best visualization would be for this data. \n",
    "#----------Was not able to plot 'A2-A10' on x axis with all the y values on y axis in a scatter plot.\n",
    "#---------- Got error x and y must be same size...need to slice differently?"
   ]
  }
 ],
 "metadata": {
  "kernelspec": {
   "display_name": "Python 3",
   "language": "python",
   "name": "python3"
  },
  "language_info": {
   "codemirror_mode": {
    "name": "ipython",
    "version": 3
   },
   "file_extension": ".py",
   "mimetype": "text/x-python",
   "name": "python",
   "nbconvert_exporter": "python",
   "pygments_lexer": "ipython3",
   "version": "3.7.0"
  }
 },
 "nbformat": 4,
 "nbformat_minor": 2
}
